{
 "cells": [
  {
   "cell_type": "code",
   "execution_count": null,
   "id": "6c9f4e86",
   "metadata": {},
   "outputs": [],
   "source": [
    "def parcala(dizi,solIndis,sagIndis):\n",
    "    i = solIndis-1\n",
    "    pivot = dizi[sagIndis]\n",
    "    for j in range(solIndis,sagIndis):\n",
    "        if dizi[j]<=pivot:\n",
    "            i+=1\n",
    "            dizi[i],dizi[j]=dizi[j],dizi[i]\n",
    "    \n",
    "    dizi[i+1],dizi[sagIndis]=dizi[sagIndis],dizi[i+1]\n",
    "    return i+1\n",
    "        \n",
    "def quickSort(dizi,solIndis,sagIndis):\n",
    "    if solIndis<sagIndis:\n",
    "        pivot = parcala(dizi,solIndis,sagIndis)\n",
    "        quickSort(dizi,solIndis,pivot-1)\n",
    "        quickSort(dizi,pivot+1,sagIndis)\n",
    "\n",
    "def binnarySearch(dizi,solIndis,sagIndis,aranan):\n",
    "    if solIndis <= sagIndis:\n",
    "        ortanca=solIndis+sagIndis//2\n",
    "        if dizi[ortanca]==aranan:\n",
    "            return ortanca\n",
    "        if dizi[ortanca]>aranan:\n",
    "            return binnarySearch(dizi,solIndis,ortanca-1,aranan)\n",
    "        if dizi[ortanca]<aranan:\n",
    "            return binnarySearch(dizi,ortanca+1,sagIndis,aranan)\n",
    "    else:\n",
    "        return -1\n",
    "        \n",
    "\n",
    "dizi=[1, 2, 3, 4, 5, 6, 7, 8, 9, 10, 11, 12, 13]\n",
    "quickSort(dizi,0,len(dizi)-1)\n",
    "print(dizi)\n",
    "\n",
    "sayi=binnarySearch(dizi,1,len(dizi),7)\n",
    "if sayi == -1:\n",
    "    print(\"Aradığınız Eleman Bulunamadı\")\n",
    "else:\n",
    "    print(str(sayi))"
   ]
  },
  {
   "cell_type": "code",
   "execution_count": null,
   "id": "b493c0f4",
   "metadata": {},
   "outputs": [],
   "source": [
    "dizi=[1,2,3]\n",
    "dizi=list(reversed(dizi))\n",
    "print(dizi)"
   ]
  },
  {
   "cell_type": "code",
   "execution_count": 3,
   "id": "cb13b570",
   "metadata": {},
   "outputs": [
    {
     "name": "stdout",
     "output_type": "stream",
     "text": [
      "None\n"
     ]
    }
   ],
   "source": [
    "def binnarySearch(dizi,solIndis,sagIndis,aranan):\n",
    "    if solIndis <= sagIndis:\n",
    "        ortanca=solIndis+sagIndis//2\n",
    "        if dizi[ortanca]==aranan and ortanca==9:\n",
    "            return ortanca\n",
    "        if dizi[ortanca]>aranan and ortanca==9:\n",
    "            return binnarySearch(dizi,solIndis,ortanca-1,aranan)\n",
    "        if dizi[ortanca]<aranan and ortanca==9:\n",
    "            return binnarySearch(dizi,ortanca+1,sagIndis,aranan)\n",
    "    else:\n",
    "        return -1\n",
    "\n",
    "dizi=[1, 2, 3, 4, 5, 6, 7, 8, 9, 10, 11, 12, 13]\n",
    "new=\"\"\n",
    "for i in range(len(dizi)):\n",
    "    new+=str(dizi[i])\n",
    "\n",
    "dizi=list(new)\n",
    "aranan=binnarySearch(dizi,0,len(dizi)-1,dizi[10-1])\n",
    "    "
   ]
  },
  {
   "cell_type": "code",
   "execution_count": 1,
   "id": "8a2ee3fa",
   "metadata": {},
   "outputs": [
    {
     "name": "stdout",
     "output_type": "stream",
     "text": [
      "[2, 3, 4, 5]\n",
      "Aradığınız Eleman 2 indeksindedir\n"
     ]
    }
   ],
   "source": [
    "def parcala(dizim,solIndis,sagIndis):\n",
    "    i=solIndis-1\n",
    "    pivot=dizim[sagIndis]\n",
    "    for j in range(solIndis,sagIndis):\n",
    "        if dizim[j]<=pivot:\n",
    "            i+=1\n",
    "            dizim[i],dizim[j]=dizim[j],dizim[i]\n",
    "            \n",
    "    dizim[i+1],dizim[sagIndis]=dizim[sagIndis],dizim[i+1]\n",
    "    return i+1\n",
    "            \n",
    "    \n",
    "def quickSort(dizim,solIndis,sagIndis):\n",
    "    if solIndis<sagIndis:\n",
    "        pivot=parcala(dizim,solIndis,sagIndis)\n",
    "        quickSort(dizim,solIndis,pivot-1)\n",
    "        quickSort(dizim,pivot+1,sagIndis)\n",
    "\n",
    "def binnarySearch(dizim,solIndis,sagIndis,aranan):\n",
    "    if solIndis<=sagIndis:\n",
    "        ort = (solIndis+sagIndis)//2\n",
    "        if dizim[ort]==aranan:\n",
    "            return ort\n",
    "        if dizim[ort]<aranan:\n",
    "            return binnarySearch(dizim,ort+1,len(dizim)-1,aranan)\n",
    "        if dizim[ort]>aranan:\n",
    "            return binnarySearch(dizim,0,ort-1,aranan)\n",
    "    else:\n",
    "        return -1\n",
    "    \n",
    "        \n",
    "dizim=[3,4,2,5]\n",
    "quickSort(dizim,0,len(dizim)-1)\n",
    "print(dizim)\n",
    "aranan=binnarySearch(dizim,0,len(dizim)-1, 4)\n",
    "if aranan==-1:\n",
    "    print(\"Aradığınız Eleman Yoktur\")\n",
    "else:\n",
    "    print(\"Aradığınız Eleman \"+str(aranan)+\" indeksindedir\")"
   ]
  },
  {
   "cell_type": "code",
   "execution_count": 2,
   "id": "d1550fac",
   "metadata": {},
   "outputs": [
    {
     "ename": "SyntaxError",
     "evalue": "unexpected EOF while parsing (1804807963.py, line 47)",
     "output_type": "error",
     "traceback": [
      "\u001b[1;36m  Input \u001b[1;32mIn [2]\u001b[1;36m\u001b[0m\n\u001b[1;33m    tekcift(dizi\u001b[0m\n\u001b[1;37m                ^\u001b[0m\n\u001b[1;31mSyntaxError\u001b[0m\u001b[1;31m:\u001b[0m unexpected EOF while parsing\n"
     ]
    }
   ],
   "source": [
    "def parcala(dizi,solIndis,sagIndis):\n",
    "    i = solIndis-1\n",
    "    pivot = dizi[sagIndis]\n",
    "    for j in range(solIndis,sagIndis):\n",
    "        if dizi[j]<=pivot:\n",
    "            i+=1\n",
    "            dizi[i],dizi[j]=dizi[j],dizi[i]\n",
    "    \n",
    "    dizi[i+1],dizi[sagIndis]=dizi[sagIndis],dizi[i+1]\n",
    "    return i+1\n",
    "        \n",
    "def quickSort(dizi,solIndis,sagIndis):\n",
    "    if solIndis<sagIndis:\n",
    "        pivot = parcala(dizi,solIndis,sagIndis)\n",
    "        quickSort(dizi,solIndis,pivot-1)\n",
    "        quickSort(dizi,pivot+1,sagIndis)\n",
    "\n",
    "def tekcift(dizi):\n",
    "    tekN=[]\n",
    "    tekP=[]\n",
    "    ciftN=[]\n",
    "    ciftP=[]\n",
    "    k=len(dizi)\n",
    "    for i in range(len(dizi)):\n",
    "        if dizi[i]<0 and dizi[i]%2==0:\n",
    "            ciftN.append(dizi[i])\n",
    "        if dizi[i]>=0 and dizi[i]%2==0:\n",
    "            ciftP.append(dizi[i])\n",
    "        if dizi[i]<0 and dizi[i]%2==1:\n",
    "            tekN.append(dizi[i])\n",
    "        if dizi[i]>=0 and dizi[i]%2==1:\n",
    "            tekP.append(dizi[i])\n",
    "    \n",
    "    for j in range(len(tekN)):\n",
    "        dizi.append(tekN[j])\n",
    "    for j in range(len(ciftN)):\n",
    "        dizi.append(ciftN[j])\n",
    "    for j in range(len(tekP)):\n",
    "        dizi.append(tekP[j])\n",
    "    for j in range(len(ciftP)):\n",
    "        dizi.append(ciftP[j])\n",
    "    \n",
    "    return dizi[k:len(dizi)]\n",
    "\n",
    "dizi=[1,4,3,-1,-3,-2,8]\n",
    "quickSort(dizi,0,len(dizi)-1)\n",
    "tekcift(dizi)"
   ]
  },
  {
   "cell_type": "code",
   "execution_count": 4,
   "id": "f9333bfe",
   "metadata": {},
   "outputs": [
    {
     "ename": "SyntaxError",
     "evalue": "invalid syntax (2997213353.py, line 19)",
     "output_type": "error",
     "traceback": [
      "\u001b[1;36m  Input \u001b[1;32mIn [4]\u001b[1;36m\u001b[0m\n\u001b[1;33m    if solIndis<=sagIndis\u001b[0m\n\u001b[1;37m                         ^\u001b[0m\n\u001b[1;31mSyntaxError\u001b[0m\u001b[1;31m:\u001b[0m invalid syntax\n"
     ]
    }
   ],
   "source": [
    "def parcala(dizi,solIndis,sagIndis):\n",
    "    i=solIndis-1\n",
    "    pivot=dizi[sagIndis]\n",
    "    for j in range(solIndis,sagIndis):\n",
    "        if dizi[j]<=pivot:\n",
    "            i+=1\n",
    "            dizi[j],dizi[i]=dizi[i],dizi[j]\n",
    "    \n",
    "    dizi[i+1],dizi[sagIndis]=dizi[sagIndis],dizi[i+1]\n",
    "    return i+1\n",
    "            \n",
    "def quickSort(dizi,solIndis,sagIndis):\n",
    "    if solIndis<sagIndis:\n",
    "        pivot=parcala(dizi,solIndis,sagIndis)\n",
    "        quickSort(dizi,solIndis,pivot-1)\n",
    "        quickSort(dizi,pivot+1,sagIndis)\n",
    "\n",
    "def binnarySearch(dizi,solIndis,sagIndis,aranan):\n",
    "    if solIndis<=sagIndis\n",
    "        mid=(solIndis+sagIndis)//2\n",
    "        if dizi[mid]==aranan:\n",
    "            return mid\n",
    "        if dizi[mid]<aranan:\n",
    "            binnarySearch(dizi,solIndis,mid-1,aranan)\n",
    "        if dizi[mid]>aranan:\n",
    "            binnarySearch(dizi,mid-1,sagIndis,aranan)\n",
    "    else:\n",
    "        return -1\n",
    "        "
   ]
  },
  {
   "cell_type": "code",
   "execution_count": null,
   "id": "40cf3892",
   "metadata": {},
   "outputs": [],
   "source": []
  }
 ],
 "metadata": {
  "kernelspec": {
   "display_name": "Python 3 (ipykernel)",
   "language": "python",
   "name": "python3"
  },
  "language_info": {
   "codemirror_mode": {
    "name": "ipython",
    "version": 3
   },
   "file_extension": ".py",
   "mimetype": "text/x-python",
   "name": "python",
   "nbconvert_exporter": "python",
   "pygments_lexer": "ipython3",
   "version": "3.9.12"
  }
 },
 "nbformat": 4,
 "nbformat_minor": 5
}
