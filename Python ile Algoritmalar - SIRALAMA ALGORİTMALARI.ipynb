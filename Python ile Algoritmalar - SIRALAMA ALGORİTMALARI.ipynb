{
 "cells": [
  {
   "cell_type": "code",
   "execution_count": 8,
   "id": "728797e7",
   "metadata": {},
   "outputs": [],
   "source": [
    "# Bubble Sort Algoritması"
   ]
  },
  {
   "cell_type": "code",
   "execution_count": 9,
   "id": "88d847a6",
   "metadata": {},
   "outputs": [
    {
     "data": {
      "text/plain": [
       "[1, 2, 3, 5, 7]"
      ]
     },
     "execution_count": 9,
     "metadata": {},
     "output_type": "execute_result"
    }
   ],
   "source": [
    "def BubbleSort(Dizi):\n",
    "    for i in range(len(Dizi)): # bu hali sıfırdan başlar\n",
    "        for j in range(len(Dizi)-1-i):\n",
    "            if Dizi[j] > Dizi[j+1]:\n",
    "                Dizi[j],Dizi[j+1] = Dizi[j+1],Dizi[j]\n",
    "    return Dizi\n",
    "\n",
    "BubbleSort([7,1,3,5,2])"
   ]
  },
  {
   "cell_type": "code",
   "execution_count": 10,
   "id": "782f2f5b",
   "metadata": {},
   "outputs": [],
   "source": [
    "# Selectıon Sort Algoritması"
   ]
  },
  {
   "cell_type": "code",
   "execution_count": 11,
   "id": "4e84ffd5",
   "metadata": {},
   "outputs": [
    {
     "data": {
      "text/plain": [
       "[1, 2, 3, 5, 9]"
      ]
     },
     "execution_count": 11,
     "metadata": {},
     "output_type": "execute_result"
    }
   ],
   "source": [
    "def SelectionSort(Dizim):\n",
    "    for i in range(len(Dizim)):\n",
    "        MinimumIndis = i\n",
    "        for j in range(i+1,len(Dizim)):\n",
    "            if Dizim[j] < Dizim[MinimumIndis]:\n",
    "                MinimumIndis = j\n",
    "        Dizim[i],Dizim[MinimumIndis]=Dizim[MinimumIndis],Dizim[i]\n",
    "        \n",
    "    return Dizim\n",
    "\n",
    "SelectionSort([5,9,2,3,1])"
   ]
  },
  {
   "cell_type": "code",
   "execution_count": 12,
   "id": "75d088ce",
   "metadata": {},
   "outputs": [],
   "source": [
    "# Insertıon Sort Algoritması"
   ]
  },
  {
   "cell_type": "code",
   "execution_count": 13,
   "id": "f3d0065f",
   "metadata": {},
   "outputs": [
    {
     "data": {
      "text/plain": [
       "[2, 3, 7, 9, 10, 30]"
      ]
     },
     "execution_count": 13,
     "metadata": {},
     "output_type": "execute_result"
    }
   ],
   "source": [
    "def InsertıonSort(MyDizi):\n",
    "    for i in range(1,len(MyDizi)):\n",
    "        key = MyDizi[i]\n",
    "        j=i-1\n",
    "        \n",
    "        while key<MyDizi[j] and j>=0:\n",
    "            MyDizi[j+1] = MyDizi[j]\n",
    "            j=j-1\n",
    "        MyDizi[j+1]=key\n",
    "        \n",
    "    return MyDizi\n",
    "        \n",
    "InsertıonSort([10,3,7,30,2,9])"
   ]
  },
  {
   "cell_type": "code",
   "execution_count": 14,
   "id": "49664e3c",
   "metadata": {},
   "outputs": [],
   "source": [
    "# Merge Sort Algoritması"
   ]
  },
  {
   "cell_type": "code",
   "execution_count": 15,
   "id": "0964c2d4",
   "metadata": {},
   "outputs": [
    {
     "name": "stdout",
     "output_type": "stream",
     "text": [
      "Bölünen Dizi:[45, 38, 56, 7, 13, 99, 15]\n",
      "Bölünen Dizi:[45, 38, 56]\n",
      "Bölünen Dizi:[45]\n",
      "Bölünen Dizi:[38, 56]\n",
      "Bölünen Dizi:[38]\n",
      "Bölünen Dizi:[56]\n",
      "Birlestirilmis Dizi[38, 56]\n",
      "Birlestirilmis Dizi[38, 45, 56]\n",
      "Bölünen Dizi:[7, 13, 99, 15]\n",
      "Bölünen Dizi:[7, 13]\n",
      "Bölünen Dizi:[7]\n",
      "Bölünen Dizi:[13]\n",
      "Birlestirilmis Dizi[7, 13]\n",
      "Bölünen Dizi:[99, 15]\n",
      "Bölünen Dizi:[99]\n",
      "Bölünen Dizi:[15]\n",
      "Birlestirilmis Dizi[15, 99]\n",
      "Birlestirilmis Dizi[7, 13, 15, 99]\n",
      "Birlestirilmis Dizi[7, 13, 15, 38, 45, 56, 99]\n"
     ]
    }
   ],
   "source": [
    "def Merge(benimDizi):\n",
    "    print(\"Bölünen Dizi:\" + str(benimDizi))\n",
    "    if len(benimDizi)>1:\n",
    "        \n",
    "        mid = len(benimDizi) // 2\n",
    "        solDizi = benimDizi[:mid] # midi almaz \n",
    "        sagDizi = benimDizi[mid:] # mid dahil alır pythonun bir özelligi\n",
    "        \n",
    "        Merge(solDizi) # recursive işlemi yapar solDizi böler\n",
    "        Merge(sagDizi) # recursive işlemi yapar sagDizi böler\n",
    "        MergeSort(benimDizi,solDizi,sagDizi)\n",
    "        \n",
    "def MergeSort(benimDizi,solDizi,sagDizi):\n",
    "    \n",
    "    i=0\n",
    "    j=0\n",
    "    k=0\n",
    "    \n",
    "    while i<len(solDizi) and j<len(sagDizi):\n",
    "        if solDizi[i]<sagDizi[j]:\n",
    "            benimDizi[k]=solDizi[i]\n",
    "            i+=1\n",
    "\n",
    "        else:\n",
    "            benimDizi[k] = sagDizi[j]\n",
    "            j+=1\n",
    "        k+=1\n",
    "        \n",
    "    while i<len(solDizi):\n",
    "        benimDizi[k] = solDizi[i]\n",
    "        i+=1\n",
    "        k+=1\n",
    "        \n",
    "    while j<len(sagDizi):\n",
    "        benimDizi[k] = sagDizi[j]\n",
    "        j+=1\n",
    "        k+=1\n",
    "        \n",
    "    print(\"Birlestirilmis Dizi\" + str(benimDizi))\n",
    "    \n",
    "benimDizi=[45,38,56,7,13,99,15]\n",
    "Merge(benimDizi)\n",
    "        \n",
    "        \n",
    "            \n",
    "        \n",
    "\n",
    "        "
   ]
  },
  {
   "cell_type": "code",
   "execution_count": 16,
   "id": "bffe30b4",
   "metadata": {},
   "outputs": [],
   "source": [
    "# çalışma soruları"
   ]
  },
  {
   "cell_type": "code",
   "execution_count": 17,
   "id": "6c03340e",
   "metadata": {},
   "outputs": [
    {
     "ename": "SyntaxError",
     "evalue": "invalid syntax (3512196542.py, line 13)",
     "output_type": "error",
     "traceback": [
      "\u001b[1;36m  Input \u001b[1;32mIn [17]\u001b[1;36m\u001b[0m\n\u001b[1;33m    islem_dizi =\u001b[0m\n\u001b[1;37m                 ^\u001b[0m\n\u001b[1;31mSyntaxError\u001b[0m\u001b[1;31m:\u001b[0m invalid syntax\n"
     ]
    }
   ],
   "source": [
    "def tersten_sıralı(adet):\n",
    "    dizi =[]\n",
    "    for i in range(adet):\n",
    "        dizi.append(adet-i)\n",
    "    return dizi\n",
    "\n",
    "def random_olustur(adet):\n",
    "    dizi =[]\n",
    "    for i in range(adet):\n",
    "        dizi.append(randint(a,adet))\n",
    "    return dizi\n",
    "\n",
    "islem_dizi = "
   ]
  },
  {
   "cell_type": "code",
   "execution_count": null,
   "id": "f4ee922c",
   "metadata": {},
   "outputs": [],
   "source": [
    "# Quick Sort Algoritması"
   ]
  },
  {
   "cell_type": "code",
   "execution_count": 18,
   "id": "c0ddfb5a",
   "metadata": {},
   "outputs": [
    {
     "ename": "NameError",
     "evalue": "name 'dizimiz' is not defined",
     "output_type": "error",
     "traceback": [
      "\u001b[1;31m---------------------------------------------------------------------------\u001b[0m",
      "\u001b[1;31mNameError\u001b[0m                                 Traceback (most recent call last)",
      "Input \u001b[1;32mIn [18]\u001b[0m, in \u001b[0;36m<cell line: 18>\u001b[1;34m()\u001b[0m\n\u001b[0;32m     15\u001b[0m         quickSort(dizimiz,solIndis,pivot\u001b[38;5;241m-\u001b[39m\u001b[38;5;241m1\u001b[39m)\n\u001b[0;32m     16\u001b[0m         quickSort(dizimiz,pivot\u001b[38;5;241m+\u001b[39m\u001b[38;5;241m1\u001b[39m,sagIndis)\n\u001b[1;32m---> 18\u001b[0m quickSort(\u001b[43mdizimiz\u001b[49m,\u001b[38;5;241m0\u001b[39m,\u001b[38;5;28mlen\u001b[39m(dizimiz)\u001b[38;5;241m-\u001b[39m\u001b[38;5;241m1\u001b[39m)\n\u001b[0;32m     20\u001b[0m \u001b[38;5;28mprint\u001b[39m(dizimiz)\n",
      "\u001b[1;31mNameError\u001b[0m: name 'dizimiz' is not defined"
     ]
    }
   ],
   "source": [
    "def parcala(dizimiz,solIndis,sagIndis):\n",
    "    i = solIndis - 1\n",
    "    pivot = dizimiz[sagIndis]\n",
    "    \n",
    "    for j in range(solIndis,sagIndis):\n",
    "        if dizimiz[j] <= pivot:\n",
    "            i+=1\n",
    "            dizimiz[i],dizimiz[j] = dizimiz[j],dizimiz[i]\n",
    "    dizimiz[i+1],dizimiz[sagIndis] = dizimiz[sagIndis],dizimiz[i+1]\n",
    "    return i+1\n",
    "            \n",
    "def quickSort(dizimiz,solIndis,sagIndis):\n",
    "    if solIndis < sagIndis:\n",
    "        pivot = parcalara_ayir(dizimiz,solIndis,sagIndis)\n",
    "        quickSort(dizimiz,solIndis,pivot-1)\n",
    "        quickSort(dizimiz,pivot+1,sagIndis)\n",
    "\n",
    "quickSort(dizimiz,0,len(dizimiz)-1)\n",
    "\n",
    "print(dizimiz)\n"
   ]
  },
  {
   "cell_type": "code",
   "execution_count": 2,
   "id": "ae1bb02c",
   "metadata": {},
   "outputs": [],
   "source": [
    "# Kolayca Sıralama Yapma\n",
    "a=[2,3,1,7,4]"
   ]
  },
  {
   "cell_type": "code",
   "execution_count": 7,
   "id": "f0d037e2",
   "metadata": {},
   "outputs": [
    {
     "data": {
      "text/plain": [
       "[1, 2, 3, 4, 7]"
      ]
     },
     "execution_count": 7,
     "metadata": {},
     "output_type": "execute_result"
    }
   ],
   "source": [
    "sorted(a)  # bu liste değiştirmez yani a dediğimizde a=[2,3,1,7,4] olur"
   ]
  },
  {
   "cell_type": "code",
   "execution_count": 8,
   "id": "a4380a3f",
   "metadata": {},
   "outputs": [],
   "source": [
    "a.sort()"
   ]
  },
  {
   "cell_type": "code",
   "execution_count": 9,
   "id": "06da5c71",
   "metadata": {},
   "outputs": [
    {
     "data": {
      "text/plain": [
       "[1, 2, 3, 4, 7]"
      ]
     },
     "execution_count": 9,
     "metadata": {},
     "output_type": "execute_result"
    }
   ],
   "source": [
    "a"
   ]
  },
  {
   "cell_type": "code",
   "execution_count": 10,
   "id": "3680689c",
   "metadata": {},
   "outputs": [],
   "source": [
    "a.sort(reverse=True)"
   ]
  },
  {
   "cell_type": "code",
   "execution_count": 11,
   "id": "9a81f81f",
   "metadata": {},
   "outputs": [
    {
     "data": {
      "text/plain": [
       "[7, 4, 3, 2, 1]"
      ]
     },
     "execution_count": 11,
     "metadata": {},
     "output_type": "execute_result"
    }
   ],
   "source": [
    "a"
   ]
  },
  {
   "cell_type": "code",
   "execution_count": null,
   "id": "470fb5ed",
   "metadata": {},
   "outputs": [],
   "source": []
  }
 ],
 "metadata": {
  "kernelspec": {
   "display_name": "Python 3 (ipykernel)",
   "language": "python",
   "name": "python3"
  },
  "language_info": {
   "codemirror_mode": {
    "name": "ipython",
    "version": 3
   },
   "file_extension": ".py",
   "mimetype": "text/x-python",
   "name": "python",
   "nbconvert_exporter": "python",
   "pygments_lexer": "ipython3",
   "version": "3.9.12"
  }
 },
 "nbformat": 4,
 "nbformat_minor": 5
}
