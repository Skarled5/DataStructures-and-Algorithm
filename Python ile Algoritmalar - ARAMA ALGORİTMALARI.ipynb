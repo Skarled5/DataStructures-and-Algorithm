{
 "cells": [
  {
   "cell_type": "code",
   "execution_count": 1,
   "id": "ac18a1ef",
   "metadata": {},
   "outputs": [],
   "source": [
    "# Linear Search (Lineer Arama Algoritmaları)"
   ]
  },
  {
   "cell_type": "code",
   "execution_count": 2,
   "id": "820047c7",
   "metadata": {},
   "outputs": [],
   "source": [
    "dizi = [2,32,60,1,7,41,28,156,12]"
   ]
  },
  {
   "cell_type": "code",
   "execution_count": 6,
   "id": "b17f5ec4",
   "metadata": {},
   "outputs": [
    {
     "name": "stdout",
     "output_type": "stream",
     "text": [
      "Aradığınız Elaman 3 indisinde bulundu\n"
     ]
    }
   ],
   "source": [
    "def linear_search(aranan,dizi):\n",
    "    for i in range(0,len(dizi)):\n",
    "        if dizi[i]==aranan:\n",
    "            return i\n",
    "    return -1\n",
    "\n",
    "arananElaman = linear_search(1,dizi)\n",
    "\n",
    "if arananElaman == -1:\n",
    "    print(\"Böyle bir elaman bulunamadı\")\n",
    "else:\n",
    "    print(\"Aradığınız Elaman \" + str(arananElaman) + \" indisinde bulundu\")"
   ]
  },
  {
   "cell_type": "code",
   "execution_count": null,
   "id": "44cd2754",
   "metadata": {},
   "outputs": [],
   "source": [
    "# Binnar"
   ]
  }
 ],
 "metadata": {
  "kernelspec": {
   "display_name": "Python 3 (ipykernel)",
   "language": "python",
   "name": "python3"
  },
  "language_info": {
   "codemirror_mode": {
    "name": "ipython",
    "version": 3
   },
   "file_extension": ".py",
   "mimetype": "text/x-python",
   "name": "python",
   "nbconvert_exporter": "python",
   "pygments_lexer": "ipython3",
   "version": "3.9.12"
  }
 },
 "nbformat": 4,
 "nbformat_minor": 5
}
