{
 "cells": [
  {
   "cell_type": "code",
   "execution_count": 1,
   "id": "6fe5ed7f",
   "metadata": {},
   "outputs": [
    {
     "data": {
      "text/plain": [
       "'\\nDeque()\\n\\naddRight()\\naddLeft()\\n\\nremoveRight()\\nremoveLeft()\\n\\nisEmpty()\\nsize()\\n'"
      ]
     },
     "execution_count": 1,
     "metadata": {},
     "output_type": "execute_result"
    }
   ],
   "source": [
    "'''\n",
    "Deque()\n",
    "\n",
    "addRight()\n",
    "addLeft()\n",
    "\n",
    "removeRight()\n",
    "removeLeft()\n",
    "\n",
    "isEmpty()\n",
    "size()\n",
    "'''"
   ]
  },
  {
   "cell_type": "code",
   "execution_count": 3,
   "id": "f2d54ba8",
   "metadata": {},
   "outputs": [],
   "source": [
    "class Deque():\n",
    "    def __init__(self):\n",
    "        self.elements = []\n",
    "    def isEmpty(self):\n",
    "        return self.elements == []\n",
    "    def  addLeft(self,element):\n",
    "        self.elements.insert(0,element)\n",
    "    def addRight(self,element):\n",
    "        self.elements.append(element)\n",
    "    def removeLeft(self):\n",
    "        return self.element.pop(0)\n",
    "    def removeRight(self):\n",
    "        return self.elements.pop()\n",
    "    def size(self):\n",
    "        return len(self.elements)"
   ]
  },
  {
   "cell_type": "markdown",
   "id": "4dac287c",
   "metadata": {},
   "source": [
    "\n",
    "Deque(): Çift yönlü kuyruk (deque) veri yapısını oluşturmak için bir başlatıcı işlev. Bu fonksiyon boş bir çift yönlü kuyruk oluşturur.\n",
    "\n",
    "addRight(item): Çift yönlü kuyruğun sağ tarafına (sonuna) yeni bir öğe eklemek için kullanılan fonksiyon.\n",
    "\n",
    "addLeft(item): Çift yönlü kuyruğun sol tarafına (başına) yeni bir öğe eklemek için kullanılan fonksiyon.\n",
    "\n",
    "removeRight(): Çift yönlü kuyruğun sağ tarafındaki (sonundaki) en son eklenen öğeyi kaldırmak için kullanılan fonksiyon.\n",
    "\n",
    "removeLeft(): Çift yönlü kuyruğun sol tarafındaki (başındaki) en eski öğeyi kaldırmak için kullanılan fonksiyon.\n",
    "\n",
    "isEmpty(): Çift yönlü kuyruğun boş olup olmadığını kontrol etmek için kullanılan fonksiyon. Eğer çift yönlü kuyruk boşsa True, değilse False döndürür.\n",
    "\n",
    "size(): Çift yönlü kuyruktaki öğelerin toplam sayısını döndüren fonksiyon."
   ]
  },
  {
   "cell_type": "code",
   "execution_count": null,
   "id": "7248ec73",
   "metadata": {},
   "outputs": [],
   "source": []
  }
 ],
 "metadata": {
  "kernelspec": {
   "display_name": "Python 3 (ipykernel)",
   "language": "python",
   "name": "python3"
  },
  "language_info": {
   "codemirror_mode": {
    "name": "ipython",
    "version": 3
   },
   "file_extension": ".py",
   "mimetype": "text/x-python",
   "name": "python",
   "nbconvert_exporter": "python",
   "pygments_lexer": "ipython3",
   "version": "3.9.12"
  }
 },
 "nbformat": 4,
 "nbformat_minor": 5
}
