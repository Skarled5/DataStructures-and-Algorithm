{
 "cells": [
  {
   "cell_type": "code",
   "execution_count": 1,
   "id": "101c410f",
   "metadata": {},
   "outputs": [],
   "source": [
    "# Linked Listler indexlere çok hızlı bir şekilde ulaşılmayı sağlar\n",
    "# Singly Linked List"
   ]
  },
  {
   "cell_type": "code",
   "execution_count": 2,
   "id": "42c14725",
   "metadata": {},
   "outputs": [],
   "source": [
    "class Node():\n",
    "    \n",
    "    def __init__(self,value):\n",
    "        \n",
    "        self.value = value\n",
    "        self.nextNode = None"
   ]
  },
  {
   "cell_type": "code",
   "execution_count": 3,
   "id": "cba571fc",
   "metadata": {},
   "outputs": [],
   "source": [
    "firstNode = Node(10)"
   ]
  },
  {
   "cell_type": "code",
   "execution_count": 4,
   "id": "dfba0c1d",
   "metadata": {},
   "outputs": [],
   "source": [
    "secondNode = Node(20)"
   ]
  },
  {
   "cell_type": "code",
   "execution_count": 5,
   "id": "6c25f900",
   "metadata": {},
   "outputs": [],
   "source": [
    "thirdNode = Node(30)"
   ]
  },
  {
   "cell_type": "code",
   "execution_count": 6,
   "id": "d0b005c4",
   "metadata": {},
   "outputs": [],
   "source": [
    "firstNode.nextNode = secondNode"
   ]
  },
  {
   "cell_type": "code",
   "execution_count": 7,
   "id": "9c7c4138",
   "metadata": {},
   "outputs": [],
   "source": [
    "secondNode.nextNode = thirdNode"
   ]
  },
  {
   "cell_type": "code",
   "execution_count": 8,
   "id": "c0cd7933",
   "metadata": {},
   "outputs": [
    {
     "data": {
      "text/plain": [
       "30"
      ]
     },
     "execution_count": 8,
     "metadata": {},
     "output_type": "execute_result"
    }
   ],
   "source": [
    "firstNode.nextNode.nextNode.value"
   ]
  },
  {
   "cell_type": "code",
   "execution_count": 13,
   "id": "df40a8f4",
   "metadata": {},
   "outputs": [],
   "source": [
    "class DoublyNode():\n",
    "    \n",
    "    def __init__(self,value):\n",
    "        \n",
    "        self.value = value\n",
    "        self.nextNode = None\n",
    "        self.prevNode = None"
   ]
  },
  {
   "cell_type": "code",
   "execution_count": 14,
   "id": "4d745162",
   "metadata": {},
   "outputs": [],
   "source": [
    "x = DoublyNode(5)\n",
    "y = DoublyNode(10)\n",
    "z = DoublyNode(15)"
   ]
  },
  {
   "cell_type": "code",
   "execution_count": 16,
   "id": "55bc4a74",
   "metadata": {},
   "outputs": [],
   "source": [
    "y.prevNode = x"
   ]
  },
  {
   "cell_type": "code",
   "execution_count": 17,
   "id": "a2e472c7",
   "metadata": {},
   "outputs": [
    {
     "data": {
      "text/plain": [
       "5"
      ]
     },
     "execution_count": 17,
     "metadata": {},
     "output_type": "execute_result"
    }
   ],
   "source": [
    "y.prevNode.value"
   ]
  },
  {
   "cell_type": "code",
   "execution_count": 18,
   "id": "ff70d50e",
   "metadata": {},
   "outputs": [],
   "source": [
    "x.nextNode = y"
   ]
  },
  {
   "cell_type": "code",
   "execution_count": 19,
   "id": "1a7caf7b",
   "metadata": {},
   "outputs": [],
   "source": [
    "y.nextNode = z"
   ]
  },
  {
   "cell_type": "code",
   "execution_count": 21,
   "id": "26fcf411",
   "metadata": {},
   "outputs": [
    {
     "data": {
      "text/plain": [
       "15"
      ]
     },
     "execution_count": 21,
     "metadata": {},
     "output_type": "execute_result"
    }
   ],
   "source": [
    "x.nextNode.nextNode.value #bütün nodeleri tanımla bunun value değerine erişmek için ve değiştirmek için"
   ]
  },
  {
   "cell_type": "code",
   "execution_count": null,
   "id": "c4ca5a95",
   "metadata": {},
   "outputs": [],
   "source": [
    "head = [1,2,3,4,5]\n",
    "n = int(input(\"n:\"))\n",
    "for i in range(len(head)-1,len(head)-n-1,-1):\n",
    "    if head[len(head)-n]==head[i]:\n",
    "        head.remove(head[i])\n",
    "\n",
    "print(head)"
   ]
  }
 ],
 "metadata": {
  "kernelspec": {
   "display_name": "Python 3 (ipykernel)",
   "language": "python",
   "name": "python3"
  },
  "language_info": {
   "codemirror_mode": {
    "name": "ipython",
    "version": 3
   },
   "file_extension": ".py",
   "mimetype": "text/x-python",
   "name": "python",
   "nbconvert_exporter": "python",
   "pygments_lexer": "ipython3",
   "version": "3.9.12"
  }
 },
 "nbformat": 4,
 "nbformat_minor": 5
}
